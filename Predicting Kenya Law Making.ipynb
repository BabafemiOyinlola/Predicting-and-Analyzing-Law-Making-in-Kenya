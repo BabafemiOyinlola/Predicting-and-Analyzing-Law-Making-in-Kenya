{
 "cells": [
  {
   "cell_type": "code",
   "execution_count": 47,
   "metadata": {},
   "outputs": [],
   "source": [
    "import string\n",
    "import pickle\n",
    "import imblearn\n",
    "from utils import *\n",
    "import seaborn as sns\n",
    "import matplotlib.pyplot as plt\n",
    "from sklearn.svm import SVC\n",
    "from sklearn.ensemble import StackingClassifier\n",
    "from sklearn.ensemble import RandomForestClassifier\n",
    "from sklearn.linear_model import LogisticRegression\n",
    "from sklearn.pipeline import FeatureUnion, Pipeline\n",
    "from sklearn.base import BaseEstimator, TransformerMixin\n",
    "from imblearn.over_sampling import RandomOverSampler, SMOTE\n",
    "from sklearn.preprocessing import StandardScaler, LabelEncoder\n",
    "from sklearn.metrics import classification_report, auc, roc_curve, brier_score_loss\n",
    "from sklearn.model_selection import train_test_split, GridSearchCV, StratifiedKFold"
   ]
  },
  {
   "cell_type": "markdown",
   "metadata": {},
   "source": [
    "Preprocessing\n",
    "---\n"
   ]
  },
  {
   "cell_type": "code",
   "execution_count": 48,
   "metadata": {},
   "outputs": [],
   "source": [
    "filepath = './data/Kenya_Bill_Text_ID.csv'\n",
    "df = preprocess_kenyan_bills(filepath)"
   ]
  },
  {
   "cell_type": "code",
   "execution_count": 49,
   "metadata": {},
   "outputs": [
    {
     "output_type": "execute_result",
     "data": {
      "text/plain": "Index(['1ST READ', '2ND READ', '3RD READ', 'ASSENT', 'BILL', 'DATECIRC',\n       'DATED', 'GAZETTE NO.', 'MATURITY', 'NA BILL/NO.', 'REMARKS', 'SPONSOR',\n       'SUPP NO.', 'TEXT', 'BILL_ID', 'LABEL', 'YEAR', 'MONTH'],\n      dtype='object')"
     },
     "metadata": {},
     "execution_count": 49
    }
   ],
   "source": [
    "df.columns"
   ]
  },
  {
   "cell_type": "markdown",
   "metadata": {},
   "source": [
    "More features\n",
    "---"
   ]
  },
  {
   "cell_type": "code",
   "execution_count": 50,
   "metadata": {},
   "outputs": [],
   "source": [
    "# confirmed from http://www.parliament.go.ke/index.php/the-national-assembly/mps\n",
    "\n",
    "other_hons = ['joseph limo', \"kimani ichung'wa\", 'maina kamanda', 'mutava musyimi', 'benjamin langat',\\\n",
    "             'samuel chepkonga', \"samuel chepkong'a\", 'rachel nyamai', 'rachael nyamai', 'jeremiah kioni',\\\n",
    "             \"benjamin lang'at\", \"kimani ichungw'ah\", 'joseph lekuton', 'moses lessonet', 'asman kamama',\\\n",
    "             'john olago aluoch', 'amina abdalla', 'ephraim m. maina', 'jared odhiambo opiyo', 'eugene wamalwa',\\\n",
    "             'waititu francis munyua', 'julius melly', 'victor munyaka', 'j.k. limo', 'andrew mwadime',\\\n",
    "             'florence mutua', 'david kangogo bowen', 'ayub savula', 'w.k. ottichilo']"
   ]
  },
  {
   "cell_type": "code",
   "execution_count": 51,
   "metadata": {},
   "outputs": [],
   "source": [
    "house_members = []\n",
    "att_gen_minister = []\n",
    "\n",
    "for i in df['SPONSOR']:\n",
    "    if 'member of parliament' in str(i):\n",
    "        house_members.append(i)\n",
    "    elif str(i).startswith('hon.'):\n",
    "        house_members.append(i)\n",
    "    elif 'aden duale' in str(i) or 'aden aduale' in str(i):\n",
    "        house_members.append(i)\n",
    "    elif 'aden dualle' in str(i):\n",
    "        house_members.append(i)\n",
    "    elif any(hon in str(i) for hon in other_hons):\n",
    "        house_members.append(i)\n",
    "\n",
    "\n",
    "for i in df['SPONSOR']:\n",
    "    if 'minister' in str(i) or 'ministry' in str(i):\n",
    "        att_gen_minister.append(i)\n",
    "    elif 'attorney general' in str(i):\n",
    "        att_gen_minister.append(i)\n",
    "    elif 'attorney-general' in str(i):\n",
    "        att_gen_minister.append(i)\n",
    "\n",
    "others = [i for i in df['SPONSOR'] if i not in house_members and i not in att_gen_minister]"
   ]
  },
  {
   "cell_type": "code",
   "execution_count": 52,
   "metadata": {},
   "outputs": [
    {
     "output_type": "stream",
     "name": "stdout",
     "text": "Total sponsors =  460\nTotal house_members =  349\nTotal att_gen_minister =  109\nTotal others =  9\n"
    }
   ],
   "source": [
    "print('Total sponsors = ' , len(list(df['SPONSOR'])))\n",
    "print('Total house_members = ' , len(house_members))\n",
    "print('Total att_gen_minister = ' , len(att_gen_minister))\n",
    "print('Total others = ' , len(others))"
   ]
  },
  {
   "cell_type": "code",
   "execution_count": 53,
   "metadata": {},
   "outputs": [],
   "source": [
    "# 0 - sponsor is a house member of parliament\n",
    "# 1 - sponsor is attorney general or minister\n",
    "sponsors2 = []\n",
    "for i, sponsor in enumerate(list(df['SPONSOR'])):\n",
    "    if sponsor in house_members:\n",
    "        sponsors2.append(0)\n",
    "    elif sponsor in att_gen_minister:\n",
    "        sponsors2.append(1)\n",
    "    else:\n",
    "        sponsors2.append(sponsor)"
   ]
  },
  {
   "cell_type": "code",
   "execution_count": 54,
   "metadata": {},
   "outputs": [],
   "source": [
    "# 1 - sponsor is 'aden duale'\n",
    "# 0 - sponsor is not 'aden duale'\n",
    "sponsors = []\n",
    "for i, sponsor in enumerate(list(df['SPONSOR'])):\n",
    "    if 'aden duale' in str(sponsor):\n",
    "        sponsors.append(1)\n",
    "    elif type(sponsor) == float:\n",
    "        sponsors.append(sponsor)\n",
    "    else:\n",
    "        sponsors.append(0)"
   ]
  },
  {
   "cell_type": "code",
   "execution_count": 55,
   "metadata": {},
   "outputs": [],
   "source": [
    "bill_titles = list(df['BILL'].apply(clean_title))\n",
    "bill_titles_vocab  = []\n",
    "for i in bill_titles:\n",
    "    bill_titles_vocab.extend(i.split())\n",
    "\n",
    "bill_titles_vocab = set(bill_titles_vocab)"
   ]
  },
  {
   "cell_type": "code",
   "execution_count": 56,
   "metadata": {},
   "outputs": [],
   "source": [
    "dimension = 100\n",
    "embeddings_matrix = get_glove(bill_titles_vocab, dimension)"
   ]
  },
  {
   "cell_type": "code",
   "execution_count": 57,
   "metadata": {},
   "outputs": [],
   "source": [
    "feature_df = pd.DataFrame()"
   ]
  },
  {
   "cell_type": "code",
   "execution_count": 58,
   "metadata": {},
   "outputs": [],
   "source": [
    "feature_df['bill'] = df['BILL']\n",
    "feature_df['text'] = df['TEXT']\n",
    "feature_df['year_introduced'] = df['YEAR']\n",
    "feature_df['month'] = df['MONTH']\n",
    "feature_df['year_diff'] = 2020 - df['YEAR']\n",
    "feature_df['text_length'] = df['TEXT'].apply(len_text)\n",
    "feature_df['label'] = df['LABEL']\n",
    "feature_df['sponsor'] = sponsors\n",
    "feature_df['sponsor2'] = sponsors2\n",
    "feature_df['len_of_title'] = df['BILL'].apply(title_len)\n",
    "feature_df['title_avg_word_vector'] = df['BILL'].apply(lambda x: extract_embedding_feature(embeddings_matrix, 100, x))\n",
    "feature_df['text_avg_word_vector'] = df['TEXT'].apply(lambda x: extract_embedding_feature(embeddings_matrix, 100, x))\n",
    "feature_df['verdict'] = df['REMARKS'].apply(extract_bill_remark)\n",
    "\n",
    "feature_df[['sponsor', 'sponsor2']] = feature_df[['sponsor', 'sponsor2']].astype('Int64')\n",
    "feature_df[['month', 'year_introduced', 'year_diff', 'text_length', 'len_of_title']] = feature_df[['month', 'year_introduced','year_diff', 'text_length', 'len_of_title']].astype('int')"
   ]
  },
  {
   "cell_type": "code",
   "execution_count": 59,
   "metadata": {},
   "outputs": [],
   "source": [
    "feature_df['sponsor'] = feature_df['sponsor'].fillna(feature_df['sponsor'].mode()[0])\n",
    "feature_df['sponsor2'] = feature_df['sponsor2'].fillna(feature_df['sponsor2'].mode()[0])"
   ]
  },
  {
   "cell_type": "code",
   "execution_count": 60,
   "metadata": {},
   "outputs": [],
   "source": [
    "# 0 - bill not introduced in an election year\n",
    "# 1 - bill introduced in an election year\n",
    "\n",
    "election_years = [2002, 2007, 2013, 2017]\n",
    "election_year_bill = [1 if year in election_years else 0 for i, year in enumerate(feature_df['year_introduced'])]\n",
    "feature_df['election_year_bill'] = election_year_bill"
   ]
  },
  {
   "cell_type": "code",
   "execution_count": 61,
   "metadata": {},
   "outputs": [
    {
     "output_type": "execute_result",
     "data": {
      "text/plain": "Text(0.5, 1.0, 'Bills passed vs bills not passed')"
     },
     "metadata": {},
     "execution_count": 61
    },
    {
     "output_type": "display_data",
     "data": {
      "text/plain": "<Figure size 432x288 with 1 Axes>",
      "image/svg+xml": "<?xml version=\"1.0\" encoding=\"utf-8\" standalone=\"no\"?>\n<!DOCTYPE svg PUBLIC \"-//W3C//DTD SVG 1.1//EN\"\n  \"http://www.w3.org/Graphics/SVG/1.1/DTD/svg11.dtd\">\n<!-- Created with matplotlib (https://matplotlib.org/) -->\n<svg height=\"277.314375pt\" version=\"1.1\" viewBox=\"0 0 388.965625 277.314375\" width=\"388.965625pt\" xmlns=\"http://www.w3.org/2000/svg\" xmlns:xlink=\"http://www.w3.org/1999/xlink\">\n <defs>\n  <style type=\"text/css\">\n*{stroke-linecap:butt;stroke-linejoin:round;}\n  </style>\n </defs>\n <g id=\"figure_1\">\n  <g id=\"patch_1\">\n   <path d=\"M -0 277.314375 \nL 388.965625 277.314375 \nL 388.965625 0 \nL -0 0 \nz\n\" style=\"fill:none;\"/>\n  </g>\n  <g id=\"axes_1\">\n   <g id=\"patch_2\">\n    <path d=\"M 46.965625 239.758125 \nL 381.765625 239.758125 \nL 381.765625 22.318125 \nL 46.965625 22.318125 \nz\n\" style=\"fill:#ffffff;\"/>\n   </g>\n   <g id=\"patch_3\">\n    <path clip-path=\"url(#pfd94574ac2)\" d=\"M 63.705625 239.758125 \nL 197.625625 239.758125 \nL 197.625625 32.672411 \nL 63.705625 32.672411 \nz\n\" style=\"fill:#3274a1;\"/>\n   </g>\n   <g id=\"patch_4\">\n    <path clip-path=\"url(#pfd94574ac2)\" d=\"M 231.105625 239.758125 \nL 365.025625 239.758125 \nL 365.025625 205.680729 \nL 231.105625 205.680729 \nz\n\" style=\"fill:#e1812c;\"/>\n   </g>\n   <g id=\"matplotlib.axis_1\">\n    <g id=\"xtick_1\">\n     <g id=\"line2d_1\">\n      <defs>\n       <path d=\"M 0 0 \nL 0 3.5 \n\" id=\"m33c31dc0da\" style=\"stroke:#000000;stroke-width:0.8;\"/>\n      </defs>\n      <g>\n       <use style=\"stroke:#000000;stroke-width:0.8;\" x=\"130.665625\" xlink:href=\"#m33c31dc0da\" y=\"239.758125\"/>\n      </g>\n     </g>\n     <g id=\"text_1\">\n      <!-- not passed -->\n      <defs>\n       <path d=\"M 54.890625 33.015625 \nL 54.890625 0 \nL 45.90625 0 \nL 45.90625 32.71875 \nQ 45.90625 40.484375 42.875 44.328125 \nQ 39.84375 48.1875 33.796875 48.1875 \nQ 26.515625 48.1875 22.3125 43.546875 \nQ 18.109375 38.921875 18.109375 30.90625 \nL 18.109375 0 \nL 9.078125 0 \nL 9.078125 54.6875 \nL 18.109375 54.6875 \nL 18.109375 46.1875 \nQ 21.34375 51.125 25.703125 53.5625 \nQ 30.078125 56 35.796875 56 \nQ 45.21875 56 50.046875 50.171875 \nQ 54.890625 44.34375 54.890625 33.015625 \nz\n\" id=\"DejaVuSans-110\"/>\n       <path d=\"M 30.609375 48.390625 \nQ 23.390625 48.390625 19.1875 42.75 \nQ 14.984375 37.109375 14.984375 27.296875 \nQ 14.984375 17.484375 19.15625 11.84375 \nQ 23.34375 6.203125 30.609375 6.203125 \nQ 37.796875 6.203125 41.984375 11.859375 \nQ 46.1875 17.53125 46.1875 27.296875 \nQ 46.1875 37.015625 41.984375 42.703125 \nQ 37.796875 48.390625 30.609375 48.390625 \nz\nM 30.609375 56 \nQ 42.328125 56 49.015625 48.375 \nQ 55.71875 40.765625 55.71875 27.296875 \nQ 55.71875 13.875 49.015625 6.21875 \nQ 42.328125 -1.421875 30.609375 -1.421875 \nQ 18.84375 -1.421875 12.171875 6.21875 \nQ 5.515625 13.875 5.515625 27.296875 \nQ 5.515625 40.765625 12.171875 48.375 \nQ 18.84375 56 30.609375 56 \nz\n\" id=\"DejaVuSans-111\"/>\n       <path d=\"M 18.3125 70.21875 \nL 18.3125 54.6875 \nL 36.8125 54.6875 \nL 36.8125 47.703125 \nL 18.3125 47.703125 \nL 18.3125 18.015625 \nQ 18.3125 11.328125 20.140625 9.421875 \nQ 21.96875 7.515625 27.59375 7.515625 \nL 36.8125 7.515625 \nL 36.8125 0 \nL 27.59375 0 \nQ 17.1875 0 13.234375 3.875 \nQ 9.28125 7.765625 9.28125 18.015625 \nL 9.28125 47.703125 \nL 2.6875 47.703125 \nL 2.6875 54.6875 \nL 9.28125 54.6875 \nL 9.28125 70.21875 \nz\n\" id=\"DejaVuSans-116\"/>\n       <path id=\"DejaVuSans-32\"/>\n       <path d=\"M 18.109375 8.203125 \nL 18.109375 -20.796875 \nL 9.078125 -20.796875 \nL 9.078125 54.6875 \nL 18.109375 54.6875 \nL 18.109375 46.390625 \nQ 20.953125 51.265625 25.265625 53.625 \nQ 29.59375 56 35.59375 56 \nQ 45.5625 56 51.78125 48.09375 \nQ 58.015625 40.1875 58.015625 27.296875 \nQ 58.015625 14.40625 51.78125 6.484375 \nQ 45.5625 -1.421875 35.59375 -1.421875 \nQ 29.59375 -1.421875 25.265625 0.953125 \nQ 20.953125 3.328125 18.109375 8.203125 \nz\nM 48.6875 27.296875 \nQ 48.6875 37.203125 44.609375 42.84375 \nQ 40.53125 48.484375 33.40625 48.484375 \nQ 26.265625 48.484375 22.1875 42.84375 \nQ 18.109375 37.203125 18.109375 27.296875 \nQ 18.109375 17.390625 22.1875 11.75 \nQ 26.265625 6.109375 33.40625 6.109375 \nQ 40.53125 6.109375 44.609375 11.75 \nQ 48.6875 17.390625 48.6875 27.296875 \nz\n\" id=\"DejaVuSans-112\"/>\n       <path d=\"M 34.28125 27.484375 \nQ 23.390625 27.484375 19.1875 25 \nQ 14.984375 22.515625 14.984375 16.5 \nQ 14.984375 11.71875 18.140625 8.90625 \nQ 21.296875 6.109375 26.703125 6.109375 \nQ 34.1875 6.109375 38.703125 11.40625 \nQ 43.21875 16.703125 43.21875 25.484375 \nL 43.21875 27.484375 \nz\nM 52.203125 31.203125 \nL 52.203125 0 \nL 43.21875 0 \nL 43.21875 8.296875 \nQ 40.140625 3.328125 35.546875 0.953125 \nQ 30.953125 -1.421875 24.3125 -1.421875 \nQ 15.921875 -1.421875 10.953125 3.296875 \nQ 6 8.015625 6 15.921875 \nQ 6 25.140625 12.171875 29.828125 \nQ 18.359375 34.515625 30.609375 34.515625 \nL 43.21875 34.515625 \nL 43.21875 35.40625 \nQ 43.21875 41.609375 39.140625 45 \nQ 35.0625 48.390625 27.6875 48.390625 \nQ 23 48.390625 18.546875 47.265625 \nQ 14.109375 46.140625 10.015625 43.890625 \nL 10.015625 52.203125 \nQ 14.9375 54.109375 19.578125 55.046875 \nQ 24.21875 56 28.609375 56 \nQ 40.484375 56 46.34375 49.84375 \nQ 52.203125 43.703125 52.203125 31.203125 \nz\n\" id=\"DejaVuSans-97\"/>\n       <path d=\"M 44.28125 53.078125 \nL 44.28125 44.578125 \nQ 40.484375 46.53125 36.375 47.5 \nQ 32.28125 48.484375 27.875 48.484375 \nQ 21.1875 48.484375 17.84375 46.4375 \nQ 14.5 44.390625 14.5 40.28125 \nQ 14.5 37.15625 16.890625 35.375 \nQ 19.28125 33.59375 26.515625 31.984375 \nL 29.59375 31.296875 \nQ 39.15625 29.25 43.1875 25.515625 \nQ 47.21875 21.78125 47.21875 15.09375 \nQ 47.21875 7.46875 41.1875 3.015625 \nQ 35.15625 -1.421875 24.609375 -1.421875 \nQ 20.21875 -1.421875 15.453125 -0.5625 \nQ 10.6875 0.296875 5.421875 2 \nL 5.421875 11.28125 \nQ 10.40625 8.6875 15.234375 7.390625 \nQ 20.0625 6.109375 24.8125 6.109375 \nQ 31.15625 6.109375 34.5625 8.28125 \nQ 37.984375 10.453125 37.984375 14.40625 \nQ 37.984375 18.0625 35.515625 20.015625 \nQ 33.0625 21.96875 24.703125 23.78125 \nL 21.578125 24.515625 \nQ 13.234375 26.265625 9.515625 29.90625 \nQ 5.8125 33.546875 5.8125 39.890625 \nQ 5.8125 47.609375 11.28125 51.796875 \nQ 16.75 56 26.8125 56 \nQ 31.78125 56 36.171875 55.265625 \nQ 40.578125 54.546875 44.28125 53.078125 \nz\n\" id=\"DejaVuSans-115\"/>\n       <path d=\"M 56.203125 29.59375 \nL 56.203125 25.203125 \nL 14.890625 25.203125 \nQ 15.484375 15.921875 20.484375 11.0625 \nQ 25.484375 6.203125 34.421875 6.203125 \nQ 39.59375 6.203125 44.453125 7.46875 \nQ 49.3125 8.734375 54.109375 11.28125 \nL 54.109375 2.78125 \nQ 49.265625 0.734375 44.1875 -0.34375 \nQ 39.109375 -1.421875 33.890625 -1.421875 \nQ 20.796875 -1.421875 13.15625 6.1875 \nQ 5.515625 13.8125 5.515625 26.8125 \nQ 5.515625 40.234375 12.765625 48.109375 \nQ 20.015625 56 32.328125 56 \nQ 43.359375 56 49.78125 48.890625 \nQ 56.203125 41.796875 56.203125 29.59375 \nz\nM 47.21875 32.234375 \nQ 47.125 39.59375 43.09375 43.984375 \nQ 39.0625 48.390625 32.421875 48.390625 \nQ 24.90625 48.390625 20.390625 44.140625 \nQ 15.875 39.890625 15.1875 32.171875 \nz\n\" id=\"DejaVuSans-101\"/>\n       <path d=\"M 45.40625 46.390625 \nL 45.40625 75.984375 \nL 54.390625 75.984375 \nL 54.390625 0 \nL 45.40625 0 \nL 45.40625 8.203125 \nQ 42.578125 3.328125 38.25 0.953125 \nQ 33.9375 -1.421875 27.875 -1.421875 \nQ 17.96875 -1.421875 11.734375 6.484375 \nQ 5.515625 14.40625 5.515625 27.296875 \nQ 5.515625 40.1875 11.734375 48.09375 \nQ 17.96875 56 27.875 56 \nQ 33.9375 56 38.25 53.625 \nQ 42.578125 51.265625 45.40625 46.390625 \nz\nM 14.796875 27.296875 \nQ 14.796875 17.390625 18.875 11.75 \nQ 22.953125 6.109375 30.078125 6.109375 \nQ 37.203125 6.109375 41.296875 11.75 \nQ 45.40625 17.390625 45.40625 27.296875 \nQ 45.40625 37.203125 41.296875 42.84375 \nQ 37.203125 48.484375 30.078125 48.484375 \nQ 22.953125 48.484375 18.875 42.84375 \nQ 14.796875 37.203125 14.796875 27.296875 \nz\n\" id=\"DejaVuSans-100\"/>\n      </defs>\n      <g transform=\"translate(103.189844 254.356562)scale(0.1 -0.1)\">\n       <use xlink:href=\"#DejaVuSans-110\"/>\n       <use x=\"63.378906\" xlink:href=\"#DejaVuSans-111\"/>\n       <use x=\"124.560547\" xlink:href=\"#DejaVuSans-116\"/>\n       <use x=\"163.769531\" xlink:href=\"#DejaVuSans-32\"/>\n       <use x=\"195.556641\" xlink:href=\"#DejaVuSans-112\"/>\n       <use x=\"259.033203\" xlink:href=\"#DejaVuSans-97\"/>\n       <use x=\"320.3125\" xlink:href=\"#DejaVuSans-115\"/>\n       <use x=\"372.412109\" xlink:href=\"#DejaVuSans-115\"/>\n       <use x=\"424.511719\" xlink:href=\"#DejaVuSans-101\"/>\n       <use x=\"486.035156\" xlink:href=\"#DejaVuSans-100\"/>\n      </g>\n     </g>\n    </g>\n    <g id=\"xtick_2\">\n     <g id=\"line2d_2\">\n      <g>\n       <use style=\"stroke:#000000;stroke-width:0.8;\" x=\"298.065625\" xlink:href=\"#m33c31dc0da\" y=\"239.758125\"/>\n      </g>\n     </g>\n     <g id=\"text_2\">\n      <!-- passed -->\n      <g transform=\"translate(280.367188 254.356562)scale(0.1 -0.1)\">\n       <use xlink:href=\"#DejaVuSans-112\"/>\n       <use x=\"63.476562\" xlink:href=\"#DejaVuSans-97\"/>\n       <use x=\"124.755859\" xlink:href=\"#DejaVuSans-115\"/>\n       <use x=\"176.855469\" xlink:href=\"#DejaVuSans-115\"/>\n       <use x=\"228.955078\" xlink:href=\"#DejaVuSans-101\"/>\n       <use x=\"290.478516\" xlink:href=\"#DejaVuSans-100\"/>\n      </g>\n     </g>\n    </g>\n    <g id=\"text_3\">\n     <!-- verdict -->\n     <defs>\n      <path d=\"M 2.984375 54.6875 \nL 12.5 54.6875 \nL 29.59375 8.796875 \nL 46.6875 54.6875 \nL 56.203125 54.6875 \nL 35.6875 0 \nL 23.484375 0 \nz\n\" id=\"DejaVuSans-118\"/>\n      <path d=\"M 41.109375 46.296875 \nQ 39.59375 47.171875 37.8125 47.578125 \nQ 36.03125 48 33.890625 48 \nQ 26.265625 48 22.1875 43.046875 \nQ 18.109375 38.09375 18.109375 28.8125 \nL 18.109375 0 \nL 9.078125 0 \nL 9.078125 54.6875 \nL 18.109375 54.6875 \nL 18.109375 46.1875 \nQ 20.953125 51.171875 25.484375 53.578125 \nQ 30.03125 56 36.53125 56 \nQ 37.453125 56 38.578125 55.875 \nQ 39.703125 55.765625 41.0625 55.515625 \nz\n\" id=\"DejaVuSans-114\"/>\n      <path d=\"M 9.421875 54.6875 \nL 18.40625 54.6875 \nL 18.40625 0 \nL 9.421875 0 \nz\nM 9.421875 75.984375 \nL 18.40625 75.984375 \nL 18.40625 64.59375 \nL 9.421875 64.59375 \nz\n\" id=\"DejaVuSans-105\"/>\n      <path d=\"M 48.78125 52.59375 \nL 48.78125 44.1875 \nQ 44.96875 46.296875 41.140625 47.34375 \nQ 37.3125 48.390625 33.40625 48.390625 \nQ 24.65625 48.390625 19.8125 42.84375 \nQ 14.984375 37.3125 14.984375 27.296875 \nQ 14.984375 17.28125 19.8125 11.734375 \nQ 24.65625 6.203125 33.40625 6.203125 \nQ 37.3125 6.203125 41.140625 7.25 \nQ 44.96875 8.296875 48.78125 10.40625 \nL 48.78125 2.09375 \nQ 45.015625 0.34375 40.984375 -0.53125 \nQ 36.96875 -1.421875 32.421875 -1.421875 \nQ 20.0625 -1.421875 12.78125 6.34375 \nQ 5.515625 14.109375 5.515625 27.296875 \nQ 5.515625 40.671875 12.859375 48.328125 \nQ 20.21875 56 33.015625 56 \nQ 37.15625 56 41.109375 55.140625 \nQ 45.0625 54.296875 48.78125 52.59375 \nz\n\" id=\"DejaVuSans-99\"/>\n     </defs>\n     <g transform=\"translate(197.002344 268.034687)scale(0.1 -0.1)\">\n      <use xlink:href=\"#DejaVuSans-118\"/>\n      <use x=\"59.179688\" xlink:href=\"#DejaVuSans-101\"/>\n      <use x=\"120.703125\" xlink:href=\"#DejaVuSans-114\"/>\n      <use x=\"161.800781\" xlink:href=\"#DejaVuSans-100\"/>\n      <use x=\"225.277344\" xlink:href=\"#DejaVuSans-105\"/>\n      <use x=\"253.060547\" xlink:href=\"#DejaVuSans-99\"/>\n      <use x=\"308.041016\" xlink:href=\"#DejaVuSans-116\"/>\n     </g>\n    </g>\n   </g>\n   <g id=\"matplotlib.axis_2\">\n    <g id=\"ytick_1\">\n     <g id=\"line2d_3\">\n      <defs>\n       <path d=\"M 0 0 \nL -3.5 0 \n\" id=\"mea4a359223\" style=\"stroke:#000000;stroke-width:0.8;\"/>\n      </defs>\n      <g>\n       <use style=\"stroke:#000000;stroke-width:0.8;\" x=\"46.965625\" xlink:href=\"#mea4a359223\" y=\"239.758125\"/>\n      </g>\n     </g>\n     <g id=\"text_4\">\n      <!-- 0 -->\n      <defs>\n       <path d=\"M 31.78125 66.40625 \nQ 24.171875 66.40625 20.328125 58.90625 \nQ 16.5 51.421875 16.5 36.375 \nQ 16.5 21.390625 20.328125 13.890625 \nQ 24.171875 6.390625 31.78125 6.390625 \nQ 39.453125 6.390625 43.28125 13.890625 \nQ 47.125 21.390625 47.125 36.375 \nQ 47.125 51.421875 43.28125 58.90625 \nQ 39.453125 66.40625 31.78125 66.40625 \nz\nM 31.78125 74.21875 \nQ 44.046875 74.21875 50.515625 64.515625 \nQ 56.984375 54.828125 56.984375 36.375 \nQ 56.984375 17.96875 50.515625 8.265625 \nQ 44.046875 -1.421875 31.78125 -1.421875 \nQ 19.53125 -1.421875 13.0625 8.265625 \nQ 6.59375 17.96875 6.59375 36.375 \nQ 6.59375 54.828125 13.0625 64.515625 \nQ 19.53125 74.21875 31.78125 74.21875 \nz\n\" id=\"DejaVuSans-48\"/>\n      </defs>\n      <g transform=\"translate(33.603125 243.557344)scale(0.1 -0.1)\">\n       <use xlink:href=\"#DejaVuSans-48\"/>\n      </g>\n     </g>\n    </g>\n    <g id=\"ytick_2\">\n     <g id=\"line2d_4\">\n      <g>\n       <use style=\"stroke:#000000;stroke-width:0.8;\" x=\"46.965625\" xlink:href=\"#mea4a359223\" y=\"213.544743\"/>\n      </g>\n     </g>\n     <g id=\"text_5\">\n      <!-- 50 -->\n      <defs>\n       <path d=\"M 10.796875 72.90625 \nL 49.515625 72.90625 \nL 49.515625 64.59375 \nL 19.828125 64.59375 \nL 19.828125 46.734375 \nQ 21.96875 47.46875 24.109375 47.828125 \nQ 26.265625 48.1875 28.421875 48.1875 \nQ 40.625 48.1875 47.75 41.5 \nQ 54.890625 34.8125 54.890625 23.390625 \nQ 54.890625 11.625 47.5625 5.09375 \nQ 40.234375 -1.421875 26.90625 -1.421875 \nQ 22.3125 -1.421875 17.546875 -0.640625 \nQ 12.796875 0.140625 7.71875 1.703125 \nL 7.71875 11.625 \nQ 12.109375 9.234375 16.796875 8.0625 \nQ 21.484375 6.890625 26.703125 6.890625 \nQ 35.15625 6.890625 40.078125 11.328125 \nQ 45.015625 15.765625 45.015625 23.390625 \nQ 45.015625 31 40.078125 35.4375 \nQ 35.15625 39.890625 26.703125 39.890625 \nQ 22.75 39.890625 18.8125 39.015625 \nQ 14.890625 38.140625 10.796875 36.28125 \nz\n\" id=\"DejaVuSans-53\"/>\n      </defs>\n      <g transform=\"translate(27.240625 217.343962)scale(0.1 -0.1)\">\n       <use xlink:href=\"#DejaVuSans-53\"/>\n       <use x=\"63.623047\" xlink:href=\"#DejaVuSans-48\"/>\n      </g>\n     </g>\n    </g>\n    <g id=\"ytick_3\">\n     <g id=\"line2d_5\">\n      <g>\n       <use style=\"stroke:#000000;stroke-width:0.8;\" x=\"46.965625\" xlink:href=\"#mea4a359223\" y=\"187.331362\"/>\n      </g>\n     </g>\n     <g id=\"text_6\">\n      <!-- 100 -->\n      <defs>\n       <path d=\"M 12.40625 8.296875 \nL 28.515625 8.296875 \nL 28.515625 63.921875 \nL 10.984375 60.40625 \nL 10.984375 69.390625 \nL 28.421875 72.90625 \nL 38.28125 72.90625 \nL 38.28125 8.296875 \nL 54.390625 8.296875 \nL 54.390625 0 \nL 12.40625 0 \nz\n\" id=\"DejaVuSans-49\"/>\n      </defs>\n      <g transform=\"translate(20.878125 191.130581)scale(0.1 -0.1)\">\n       <use xlink:href=\"#DejaVuSans-49\"/>\n       <use x=\"63.623047\" xlink:href=\"#DejaVuSans-48\"/>\n       <use x=\"127.246094\" xlink:href=\"#DejaVuSans-48\"/>\n      </g>\n     </g>\n    </g>\n    <g id=\"ytick_4\">\n     <g id=\"line2d_6\">\n      <g>\n       <use style=\"stroke:#000000;stroke-width:0.8;\" x=\"46.965625\" xlink:href=\"#mea4a359223\" y=\"161.11798\"/>\n      </g>\n     </g>\n     <g id=\"text_7\">\n      <!-- 150 -->\n      <g transform=\"translate(20.878125 164.917199)scale(0.1 -0.1)\">\n       <use xlink:href=\"#DejaVuSans-49\"/>\n       <use x=\"63.623047\" xlink:href=\"#DejaVuSans-53\"/>\n       <use x=\"127.246094\" xlink:href=\"#DejaVuSans-48\"/>\n      </g>\n     </g>\n    </g>\n    <g id=\"ytick_5\">\n     <g id=\"line2d_7\">\n      <g>\n       <use style=\"stroke:#000000;stroke-width:0.8;\" x=\"46.965625\" xlink:href=\"#mea4a359223\" y=\"134.904599\"/>\n      </g>\n     </g>\n     <g id=\"text_8\">\n      <!-- 200 -->\n      <defs>\n       <path d=\"M 19.1875 8.296875 \nL 53.609375 8.296875 \nL 53.609375 0 \nL 7.328125 0 \nL 7.328125 8.296875 \nQ 12.9375 14.109375 22.625 23.890625 \nQ 32.328125 33.6875 34.8125 36.53125 \nQ 39.546875 41.84375 41.421875 45.53125 \nQ 43.3125 49.21875 43.3125 52.78125 \nQ 43.3125 58.59375 39.234375 62.25 \nQ 35.15625 65.921875 28.609375 65.921875 \nQ 23.96875 65.921875 18.8125 64.3125 \nQ 13.671875 62.703125 7.8125 59.421875 \nL 7.8125 69.390625 \nQ 13.765625 71.78125 18.9375 73 \nQ 24.125 74.21875 28.421875 74.21875 \nQ 39.75 74.21875 46.484375 68.546875 \nQ 53.21875 62.890625 53.21875 53.421875 \nQ 53.21875 48.921875 51.53125 44.890625 \nQ 49.859375 40.875 45.40625 35.40625 \nQ 44.1875 33.984375 37.640625 27.21875 \nQ 31.109375 20.453125 19.1875 8.296875 \nz\n\" id=\"DejaVuSans-50\"/>\n      </defs>\n      <g transform=\"translate(20.878125 138.703818)scale(0.1 -0.1)\">\n       <use xlink:href=\"#DejaVuSans-50\"/>\n       <use x=\"63.623047\" xlink:href=\"#DejaVuSans-48\"/>\n       <use x=\"127.246094\" xlink:href=\"#DejaVuSans-48\"/>\n      </g>\n     </g>\n    </g>\n    <g id=\"ytick_6\">\n     <g id=\"line2d_8\">\n      <g>\n       <use style=\"stroke:#000000;stroke-width:0.8;\" x=\"46.965625\" xlink:href=\"#mea4a359223\" y=\"108.691217\"/>\n      </g>\n     </g>\n     <g id=\"text_9\">\n      <!-- 250 -->\n      <g transform=\"translate(20.878125 112.490436)scale(0.1 -0.1)\">\n       <use xlink:href=\"#DejaVuSans-50\"/>\n       <use x=\"63.623047\" xlink:href=\"#DejaVuSans-53\"/>\n       <use x=\"127.246094\" xlink:href=\"#DejaVuSans-48\"/>\n      </g>\n     </g>\n    </g>\n    <g id=\"ytick_7\">\n     <g id=\"line2d_9\">\n      <g>\n       <use style=\"stroke:#000000;stroke-width:0.8;\" x=\"46.965625\" xlink:href=\"#mea4a359223\" y=\"82.477836\"/>\n      </g>\n     </g>\n     <g id=\"text_10\">\n      <!-- 300 -->\n      <defs>\n       <path d=\"M 40.578125 39.3125 \nQ 47.65625 37.796875 51.625 33 \nQ 55.609375 28.21875 55.609375 21.1875 \nQ 55.609375 10.40625 48.1875 4.484375 \nQ 40.765625 -1.421875 27.09375 -1.421875 \nQ 22.515625 -1.421875 17.65625 -0.515625 \nQ 12.796875 0.390625 7.625 2.203125 \nL 7.625 11.71875 \nQ 11.71875 9.328125 16.59375 8.109375 \nQ 21.484375 6.890625 26.8125 6.890625 \nQ 36.078125 6.890625 40.9375 10.546875 \nQ 45.796875 14.203125 45.796875 21.1875 \nQ 45.796875 27.640625 41.28125 31.265625 \nQ 36.765625 34.90625 28.71875 34.90625 \nL 20.21875 34.90625 \nL 20.21875 43.015625 \nL 29.109375 43.015625 \nQ 36.375 43.015625 40.234375 45.921875 \nQ 44.09375 48.828125 44.09375 54.296875 \nQ 44.09375 59.90625 40.109375 62.90625 \nQ 36.140625 65.921875 28.71875 65.921875 \nQ 24.65625 65.921875 20.015625 65.03125 \nQ 15.375 64.15625 9.8125 62.3125 \nL 9.8125 71.09375 \nQ 15.4375 72.65625 20.34375 73.4375 \nQ 25.25 74.21875 29.59375 74.21875 \nQ 40.828125 74.21875 47.359375 69.109375 \nQ 53.90625 64.015625 53.90625 55.328125 \nQ 53.90625 49.265625 50.4375 45.09375 \nQ 46.96875 40.921875 40.578125 39.3125 \nz\n\" id=\"DejaVuSans-51\"/>\n      </defs>\n      <g transform=\"translate(20.878125 86.277054)scale(0.1 -0.1)\">\n       <use xlink:href=\"#DejaVuSans-51\"/>\n       <use x=\"63.623047\" xlink:href=\"#DejaVuSans-48\"/>\n       <use x=\"127.246094\" xlink:href=\"#DejaVuSans-48\"/>\n      </g>\n     </g>\n    </g>\n    <g id=\"ytick_8\">\n     <g id=\"line2d_10\">\n      <g>\n       <use style=\"stroke:#000000;stroke-width:0.8;\" x=\"46.965625\" xlink:href=\"#mea4a359223\" y=\"56.264454\"/>\n      </g>\n     </g>\n     <g id=\"text_11\">\n      <!-- 350 -->\n      <g transform=\"translate(20.878125 60.063673)scale(0.1 -0.1)\">\n       <use xlink:href=\"#DejaVuSans-51\"/>\n       <use x=\"63.623047\" xlink:href=\"#DejaVuSans-53\"/>\n       <use x=\"127.246094\" xlink:href=\"#DejaVuSans-48\"/>\n      </g>\n     </g>\n    </g>\n    <g id=\"ytick_9\">\n     <g id=\"line2d_11\">\n      <g>\n       <use style=\"stroke:#000000;stroke-width:0.8;\" x=\"46.965625\" xlink:href=\"#mea4a359223\" y=\"30.051073\"/>\n      </g>\n     </g>\n     <g id=\"text_12\">\n      <!-- 400 -->\n      <defs>\n       <path d=\"M 37.796875 64.3125 \nL 12.890625 25.390625 \nL 37.796875 25.390625 \nz\nM 35.203125 72.90625 \nL 47.609375 72.90625 \nL 47.609375 25.390625 \nL 58.015625 25.390625 \nL 58.015625 17.1875 \nL 47.609375 17.1875 \nL 47.609375 0 \nL 37.796875 0 \nL 37.796875 17.1875 \nL 4.890625 17.1875 \nL 4.890625 26.703125 \nz\n\" id=\"DejaVuSans-52\"/>\n      </defs>\n      <g transform=\"translate(20.878125 33.850291)scale(0.1 -0.1)\">\n       <use xlink:href=\"#DejaVuSans-52\"/>\n       <use x=\"63.623047\" xlink:href=\"#DejaVuSans-48\"/>\n       <use x=\"127.246094\" xlink:href=\"#DejaVuSans-48\"/>\n      </g>\n     </g>\n    </g>\n    <g id=\"text_13\">\n     <!-- count -->\n     <defs>\n      <path d=\"M 8.5 21.578125 \nL 8.5 54.6875 \nL 17.484375 54.6875 \nL 17.484375 21.921875 \nQ 17.484375 14.15625 20.5 10.265625 \nQ 23.53125 6.390625 29.59375 6.390625 \nQ 36.859375 6.390625 41.078125 11.03125 \nQ 45.3125 15.671875 45.3125 23.6875 \nL 45.3125 54.6875 \nL 54.296875 54.6875 \nL 54.296875 0 \nL 45.3125 0 \nL 45.3125 8.40625 \nQ 42.046875 3.421875 37.71875 1 \nQ 33.40625 -1.421875 27.6875 -1.421875 \nQ 18.265625 -1.421875 13.375 4.4375 \nQ 8.5 10.296875 8.5 21.578125 \nz\nM 31.109375 56 \nz\n\" id=\"DejaVuSans-117\"/>\n     </defs>\n     <g transform=\"translate(14.798438 145.144375)rotate(-90)scale(0.1 -0.1)\">\n      <use xlink:href=\"#DejaVuSans-99\"/>\n      <use x=\"54.980469\" xlink:href=\"#DejaVuSans-111\"/>\n      <use x=\"116.162109\" xlink:href=\"#DejaVuSans-117\"/>\n      <use x=\"179.541016\" xlink:href=\"#DejaVuSans-110\"/>\n      <use x=\"242.919922\" xlink:href=\"#DejaVuSans-116\"/>\n     </g>\n    </g>\n   </g>\n   <g id=\"patch_5\">\n    <path d=\"M 46.965625 239.758125 \nL 46.965625 22.318125 \n\" style=\"fill:none;stroke:#000000;stroke-linecap:square;stroke-linejoin:miter;stroke-width:0.8;\"/>\n   </g>\n   <g id=\"patch_6\">\n    <path d=\"M 381.765625 239.758125 \nL 381.765625 22.318125 \n\" style=\"fill:none;stroke:#000000;stroke-linecap:square;stroke-linejoin:miter;stroke-width:0.8;\"/>\n   </g>\n   <g id=\"patch_7\">\n    <path d=\"M 46.965625 239.758125 \nL 381.765625 239.758125 \n\" style=\"fill:none;stroke:#000000;stroke-linecap:square;stroke-linejoin:miter;stroke-width:0.8;\"/>\n   </g>\n   <g id=\"patch_8\">\n    <path d=\"M 46.965625 22.318125 \nL 381.765625 22.318125 \n\" style=\"fill:none;stroke:#000000;stroke-linecap:square;stroke-linejoin:miter;stroke-width:0.8;\"/>\n   </g>\n   <g id=\"text_14\">\n    <!-- Bills passed vs bills not passed -->\n    <defs>\n     <path d=\"M 19.671875 34.8125 \nL 19.671875 8.109375 \nL 35.5 8.109375 \nQ 43.453125 8.109375 47.28125 11.40625 \nQ 51.125 14.703125 51.125 21.484375 \nQ 51.125 28.328125 47.28125 31.5625 \nQ 43.453125 34.8125 35.5 34.8125 \nz\nM 19.671875 64.796875 \nL 19.671875 42.828125 \nL 34.28125 42.828125 \nQ 41.5 42.828125 45.03125 45.53125 \nQ 48.578125 48.25 48.578125 53.8125 \nQ 48.578125 59.328125 45.03125 62.0625 \nQ 41.5 64.796875 34.28125 64.796875 \nz\nM 9.8125 72.90625 \nL 35.015625 72.90625 \nQ 46.296875 72.90625 52.390625 68.21875 \nQ 58.5 63.53125 58.5 54.890625 \nQ 58.5 48.1875 55.375 44.234375 \nQ 52.25 40.28125 46.1875 39.3125 \nQ 53.46875 37.75 57.5 32.78125 \nQ 61.53125 27.828125 61.53125 20.40625 \nQ 61.53125 10.640625 54.890625 5.3125 \nQ 48.25 0 35.984375 0 \nL 9.8125 0 \nz\n\" id=\"DejaVuSans-66\"/>\n     <path d=\"M 9.421875 75.984375 \nL 18.40625 75.984375 \nL 18.40625 0 \nL 9.421875 0 \nz\n\" id=\"DejaVuSans-108\"/>\n     <path d=\"M 48.6875 27.296875 \nQ 48.6875 37.203125 44.609375 42.84375 \nQ 40.53125 48.484375 33.40625 48.484375 \nQ 26.265625 48.484375 22.1875 42.84375 \nQ 18.109375 37.203125 18.109375 27.296875 \nQ 18.109375 17.390625 22.1875 11.75 \nQ 26.265625 6.109375 33.40625 6.109375 \nQ 40.53125 6.109375 44.609375 11.75 \nQ 48.6875 17.390625 48.6875 27.296875 \nz\nM 18.109375 46.390625 \nQ 20.953125 51.265625 25.265625 53.625 \nQ 29.59375 56 35.59375 56 \nQ 45.5625 56 51.78125 48.09375 \nQ 58.015625 40.1875 58.015625 27.296875 \nQ 58.015625 14.40625 51.78125 6.484375 \nQ 45.5625 -1.421875 35.59375 -1.421875 \nQ 29.59375 -1.421875 25.265625 0.953125 \nQ 20.953125 3.328125 18.109375 8.203125 \nL 18.109375 0 \nL 9.078125 0 \nL 9.078125 75.984375 \nL 18.109375 75.984375 \nz\n\" id=\"DejaVuSans-98\"/>\n    </defs>\n    <g transform=\"translate(121.674063 16.318125)scale(0.12 -0.12)\">\n     <use xlink:href=\"#DejaVuSans-66\"/>\n     <use x=\"68.603516\" xlink:href=\"#DejaVuSans-105\"/>\n     <use x=\"96.386719\" xlink:href=\"#DejaVuSans-108\"/>\n     <use x=\"124.169922\" xlink:href=\"#DejaVuSans-108\"/>\n     <use x=\"151.953125\" xlink:href=\"#DejaVuSans-115\"/>\n     <use x=\"204.052734\" xlink:href=\"#DejaVuSans-32\"/>\n     <use x=\"235.839844\" xlink:href=\"#DejaVuSans-112\"/>\n     <use x=\"299.316406\" xlink:href=\"#DejaVuSans-97\"/>\n     <use x=\"360.595703\" xlink:href=\"#DejaVuSans-115\"/>\n     <use x=\"412.695312\" xlink:href=\"#DejaVuSans-115\"/>\n     <use x=\"464.794922\" xlink:href=\"#DejaVuSans-101\"/>\n     <use x=\"526.318359\" xlink:href=\"#DejaVuSans-100\"/>\n     <use x=\"589.794922\" xlink:href=\"#DejaVuSans-32\"/>\n     <use x=\"621.582031\" xlink:href=\"#DejaVuSans-118\"/>\n     <use x=\"680.761719\" xlink:href=\"#DejaVuSans-115\"/>\n     <use x=\"732.861328\" xlink:href=\"#DejaVuSans-32\"/>\n     <use x=\"764.648438\" xlink:href=\"#DejaVuSans-98\"/>\n     <use x=\"828.125\" xlink:href=\"#DejaVuSans-105\"/>\n     <use x=\"855.908203\" xlink:href=\"#DejaVuSans-108\"/>\n     <use x=\"883.691406\" xlink:href=\"#DejaVuSans-108\"/>\n     <use x=\"911.474609\" xlink:href=\"#DejaVuSans-115\"/>\n     <use x=\"963.574219\" xlink:href=\"#DejaVuSans-32\"/>\n     <use x=\"995.361328\" xlink:href=\"#DejaVuSans-110\"/>\n     <use x=\"1058.740234\" xlink:href=\"#DejaVuSans-111\"/>\n     <use x=\"1119.921875\" xlink:href=\"#DejaVuSans-116\"/>\n     <use x=\"1159.130859\" xlink:href=\"#DejaVuSans-32\"/>\n     <use x=\"1190.917969\" xlink:href=\"#DejaVuSans-112\"/>\n     <use x=\"1254.394531\" xlink:href=\"#DejaVuSans-97\"/>\n     <use x=\"1315.673828\" xlink:href=\"#DejaVuSans-115\"/>\n     <use x=\"1367.773438\" xlink:href=\"#DejaVuSans-115\"/>\n     <use x=\"1419.873047\" xlink:href=\"#DejaVuSans-101\"/>\n     <use x=\"1481.396484\" xlink:href=\"#DejaVuSans-100\"/>\n    </g>\n   </g>\n  </g>\n </g>\n <defs>\n  <clipPath id=\"pfd94574ac2\">\n   <rect height=\"217.44\" width=\"334.8\" x=\"46.965625\" y=\"22.318125\"/>\n  </clipPath>\n </defs>\n</svg>\n",
      "image/png": "[encoded data removed]"
     },
     "metadata": {
      "needs_background": "light"
     }
    }
   ],
   "source": [
    "sns.countplot(feature_df['verdict'])\n",
    "plt.title('Bills passed vs bills not passed')"
   ]
  },
  {
   "cell_type": "markdown",
   "metadata": {},
   "source": [
    "EDA\n",
    "---"
   ]
  },
  {
   "cell_type": "markdown",
   "metadata": {},
   "source": [
    "---\n",
    "- Sponsors"
   ]
  },
  {
   "cell_type": "code",
   "execution_count": 62,
   "metadata": {},
   "outputs": [
    {
     "output_type": "stream",
     "name": "stdout",
     "text": "0    338\n1    122\nName: sponsor, dtype: int64\n\n338 sponsors are not aden duale\n122 sponsors are aden duale\n"
    }
   ],
   "source": [
    "print(feature_df['sponsor'].value_counts())\n",
    "print(f'\\n{feature_df.sponsor.value_counts().values[0]} sponsors are not aden duale')\n",
    "print(f'{feature_df.sponsor.value_counts().values[1]} sponsors are aden duale')"
   ]
  },
  {
   "cell_type": "markdown",
   "metadata": {},
   "source": [
    "---\n",
    "- Sponsor2"
   ]
  },
  {
   "cell_type": "code",
   "execution_count": 63,
   "metadata": {},
   "outputs": [
    {
     "output_type": "stream",
     "name": "stdout",
     "text": "0    358\n1    102\nName: sponsor2, dtype: int64\n\n358 sponsors are members of the house of parliament\n102 sponsors are either ministers or attorney generals\n"
    }
   ],
   "source": [
    "print(feature_df['sponsor2'].value_counts())\n",
    "print(f'\\n{feature_df.sponsor2.value_counts().values[0]} sponsors are members of the house of parliament')\n",
    "print(f'{feature_df.sponsor2.value_counts().values[1]} sponsors are either ministers or attorney generals')"
   ]
  },
  {
   "cell_type": "code",
   "execution_count": 64,
   "metadata": {},
   "outputs": [
    {
     "output_type": "execute_result",
     "data": {
      "text/plain": "bill                     0\ntext                     0\nyear_introduced          0\nmonth                    0\nyear_diff                0\ntext_length              0\nlabel                    0\nsponsor                  0\nsponsor2                 0\nlen_of_title             0\ntitle_avg_word_vector    0\ntext_avg_word_vector     0\nverdict                  0\nelection_year_bill       0\ndtype: int64"
     },
     "metadata": {},
     "execution_count": 64
    }
   ],
   "source": [
    "feature_df.isna().sum()"
   ]
  },
  {
   "cell_type": "code",
   "execution_count": 65,
   "metadata": {},
   "outputs": [],
   "source": [
    "feature_df['sponsor'] = feature_df['sponsor'].fillna(feature_df['sponsor'].mode()[0])\n",
    "feature_df['sponsor2'] = feature_df['sponsor2'].fillna(feature_df['sponsor2'].mode()[0])"
   ]
  },
  {
   "cell_type": "code",
   "execution_count": 66,
   "metadata": {},
   "outputs": [
    {
     "output_type": "execute_result",
     "data": {
      "text/plain": "bill                     0\ntext                     0\nyear_introduced          0\nmonth                    0\nyear_diff                0\ntext_length              0\nlabel                    0\nsponsor                  0\nsponsor2                 0\nlen_of_title             0\ntitle_avg_word_vector    0\ntext_avg_word_vector     0\nverdict                  0\nelection_year_bill       0\ndtype: int64"
     },
     "metadata": {},
     "execution_count": 66
    }
   ],
   "source": [
    "feature_df.isna().sum()"
   ]
  },
  {
   "cell_type": "markdown",
   "metadata": {},
   "source": [
    "---\n",
    "- Year introduced"
   ]
  },
  {
   "cell_type": "code",
   "execution_count": 67,
   "metadata": {},
   "outputs": [
    {
     "output_type": "stream",
     "name": "stdout",
     "text": "2012    88\n2015    61\n2011    57\n2019    56\n2017    42\n2013    40\n2014    38\n2016    36\n2018    21\n2009    16\n2010     5\nName: year_introduced, dtype: int64\n"
    }
   ],
   "source": [
    "print(feature_df['year_introduced'].value_counts())"
   ]
  },
  {
   "cell_type": "code",
   "execution_count": 68,
   "metadata": {},
   "outputs": [],
   "source": [
    "def str_index(index, months):\n",
    "    index = str(index)\n",
    "    month = 'NA'\n",
    "    if len(index) != 2:\n",
    "        index = '0' + index\n",
    "    if index != '00':\n",
    "        month = list(months.keys())[list(months.values()).index(index)]\n",
    "    return month\n",
    "\n",
    "index = list(pd.DataFrame(feature_df['month'].value_counts()).index)\n",
    "months_count = list(pd.DataFrame(feature_df['month'].value_counts())['month'])"
   ]
  },
  {
   "cell_type": "markdown",
   "metadata": {},
   "source": [
    "---\n",
    "- Month introduced"
   ]
  },
  {
   "cell_type": "code",
   "execution_count": 69,
   "metadata": {},
   "outputs": [
    {
     "output_type": "execute_result",
     "data": {
      "text/plain": "        month  count\n0        june     61\n1      august     58\n2       april     53\n3        july     45\n4       march     43\n5    november     40\n6   september     37\n7    december     32\n8    february     27\n9     october     23\n10        may     21\n11    january     14\n12         NA      6",
      "text/html": "<div>\n<style scoped>\n    .dataframe tbody tr th:only-of-type {\n        vertical-align: middle;\n    }\n\n    .dataframe tbody tr th {\n        vertical-align: top;\n    }\n\n    .dataframe thead th {\n        text-align: right;\n    }\n</style>\n<table border=\"1\" class=\"dataframe\">\n  <thead>\n    <tr style=\"text-align: right;\">\n      <th></th>\n      <th>month</th>\n      <th>count</th>\n    </tr>\n  </thead>\n  <tbody>\n    <tr>\n      <td>0</td>\n      <td>june</td>\n      <td>61</td>\n    </tr>\n    <tr>\n      <td>1</td>\n      <td>august</td>\n      <td>58</td>\n    </tr>\n    <tr>\n      <td>2</td>\n      <td>april</td>\n      <td>53</td>\n    </tr>\n    <tr>\n      <td>3</td>\n      <td>july</td>\n      <td>45</td>\n    </tr>\n    <tr>\n      <td>4</td>\n      <td>march</td>\n      <td>43</td>\n    </tr>\n    <tr>\n      <td>5</td>\n      <td>november</td>\n      <td>40</td>\n    </tr>\n    <tr>\n      <td>6</td>\n      <td>september</td>\n      <td>37</td>\n    </tr>\n    <tr>\n      <td>7</td>\n      <td>december</td>\n      <td>32</td>\n    </tr>\n    <tr>\n      <td>8</td>\n      <td>february</td>\n      <td>27</td>\n    </tr>\n    <tr>\n      <td>9</td>\n      <td>october</td>\n      <td>23</td>\n    </tr>\n    <tr>\n      <td>10</td>\n      <td>may</td>\n      <td>21</td>\n    </tr>\n    <tr>\n      <td>11</td>\n      <td>january</td>\n      <td>14</td>\n    </tr>\n    <tr>\n      <td>12</td>\n      <td>NA</td>\n      <td>6</td>\n    </tr>\n  </tbody>\n</table>\n</div>"
     },
     "metadata": {},
     "execution_count": 69
    }
   ],
   "source": [
    "months_df = pd.DataFrame()\n",
    "months_df['month'] = index\n",
    "months_df['month'] = months_df['month'].apply(lambda x: str_index(x, months))\n",
    "months_df['count'] = months_count\n",
    "months_df"
   ]
  },
  {
   "cell_type": "markdown",
   "metadata": {},
   "source": [
    "Most bills were introduced in June, August and April"
   ]
  },
  {
   "cell_type": "code",
   "execution_count": 70,
   "metadata": {},
   "outputs": [
    {
     "output_type": "execute_result",
     "data": {
      "text/plain": "        month  count\n0        june     67\n1      august     58\n2       april     53\n3        july     45\n4       march     43\n5    november     40\n6   september     37\n7    december     32\n8    february     27\n9     october     23\n10        may     21\n11    january     14",
      "text/html": "<div>\n<style scoped>\n    .dataframe tbody tr th:only-of-type {\n        vertical-align: middle;\n    }\n\n    .dataframe tbody tr th {\n        vertical-align: top;\n    }\n\n    .dataframe thead th {\n        text-align: right;\n    }\n</style>\n<table border=\"1\" class=\"dataframe\">\n  <thead>\n    <tr style=\"text-align: right;\">\n      <th></th>\n      <th>month</th>\n      <th>count</th>\n    </tr>\n  </thead>\n  <tbody>\n    <tr>\n      <td>0</td>\n      <td>june</td>\n      <td>67</td>\n    </tr>\n    <tr>\n      <td>1</td>\n      <td>august</td>\n      <td>58</td>\n    </tr>\n    <tr>\n      <td>2</td>\n      <td>april</td>\n      <td>53</td>\n    </tr>\n    <tr>\n      <td>3</td>\n      <td>july</td>\n      <td>45</td>\n    </tr>\n    <tr>\n      <td>4</td>\n      <td>march</td>\n      <td>43</td>\n    </tr>\n    <tr>\n      <td>5</td>\n      <td>november</td>\n      <td>40</td>\n    </tr>\n    <tr>\n      <td>6</td>\n      <td>september</td>\n      <td>37</td>\n    </tr>\n    <tr>\n      <td>7</td>\n      <td>december</td>\n      <td>32</td>\n    </tr>\n    <tr>\n      <td>8</td>\n      <td>february</td>\n      <td>27</td>\n    </tr>\n    <tr>\n      <td>9</td>\n      <td>october</td>\n      <td>23</td>\n    </tr>\n    <tr>\n      <td>10</td>\n      <td>may</td>\n      <td>21</td>\n    </tr>\n    <tr>\n      <td>11</td>\n      <td>january</td>\n      <td>14</td>\n    </tr>\n  </tbody>\n</table>\n</div>"
     },
     "metadata": {},
     "execution_count": 70
    }
   ],
   "source": [
    "#replace month 0 with the most common month i.e June(6)\n",
    "feature_df['month'] = feature_df['month'].astype('int')\n",
    "feature_df['month'] = feature_df['month'].replace(to_replace=0,value=6)\n",
    "\n",
    "index = list(pd.DataFrame(feature_df['month'].value_counts()).index)\n",
    "months_count = list(pd.DataFrame(feature_df['month'].value_counts())['month'])\n",
    "\n",
    "months_df = pd.DataFrame()\n",
    "months_df['month'] = index\n",
    "months_df['month'] = months_df['month'].apply(lambda x: str_index(x, months))\n",
    "months_df['count'] = months_count\n",
    "months_df"
   ]
  },
  {
   "cell_type": "markdown",
   "metadata": {},
   "source": [
    "---\n",
    "- Election year or not"
   ]
  },
  {
   "cell_type": "code",
   "execution_count": 71,
   "metadata": {},
   "outputs": [
    {
     "output_type": "stream",
     "name": "stdout",
     "text": "0    378\n1     82\nName: election_year_bill, dtype: int64\n\n378 bills were not introduced in an election year\n82 bills were introduced in an election year\n"
    }
   ],
   "source": [
    "print(feature_df['election_year_bill'].value_counts())\n",
    "print(f'\\n{feature_df.election_year_bill.value_counts().values[0]} bills were not introduced in an election year')\n",
    "print(f'{feature_df.election_year_bill.value_counts().values[1]} bills were introduced in an election year')"
   ]
  },
  {
   "cell_type": "markdown",
   "metadata": {},
   "source": [
    "---\n",
    "- Labels"
   ]
  },
  {
   "cell_type": "code",
   "execution_count": 72,
   "metadata": {},
   "outputs": [
    {
     "output_type": "execute_result",
     "data": {
      "text/plain": "government operation and international affairs    150\nlaws, civil rights, safety and security           100\ntrade, commerce and macro economics                59\nlabour, sports and social welfare                  44\nhealth and agriculture                             38\npublic land, housing and transportation            24\neducation, research and technology                 23\nenergy, environment and natural resources          22\nName: label, dtype: int64"
     },
     "metadata": {},
     "execution_count": 72
    }
   ],
   "source": [
    "feature_df['label'].value_counts()"
   ]
  },
  {
   "cell_type": "markdown",
   "metadata": {},
   "source": [
    "---\n",
    "- Average title length"
   ]
  },
  {
   "cell_type": "code",
   "execution_count": 73,
   "metadata": {},
   "outputs": [
    {
     "output_type": "stream",
     "name": "stdout",
     "text": "The average title length is 32\n"
    }
   ],
   "source": [
    "avg_title_len = round(sum(list(feature_df['len_of_title']))/len(feature_df['len_of_title']))\n",
    "print(f'The average title length is {avg_title_len}')"
   ]
  },
  {
   "cell_type": "code",
   "execution_count": 74,
   "metadata": {},
   "outputs": [
    {
     "output_type": "execute_result",
     "data": {
      "text/plain": "460"
     },
     "metadata": {},
     "execution_count": 74
    }
   ],
   "source": [
    "len(feature_df)"
   ]
  },
  {
   "cell_type": "code",
   "execution_count": 75,
   "metadata": {},
   "outputs": [
    {
     "output_type": "execute_result",
     "data": {
      "text/plain": "not passed    395\npassed         65\nName: verdict, dtype: int64"
     },
     "metadata": {},
     "execution_count": 75
    }
   ],
   "source": [
    "feature_df['verdict'].value_counts()"
   ]
  },
  {
   "cell_type": "markdown",
   "metadata": {},
   "source": [
    "There is a class imbalance in the dataset with only 65 bills passed and 386 bills not passed."
   ]
  },
  {
   "cell_type": "code",
   "execution_count": 76,
   "metadata": {},
   "outputs": [],
   "source": [
    "X, y = feature_df.drop(['verdict', 'bill', 'text'], axis=1), feature_df['verdict']"
   ]
  },
  {
   "cell_type": "code",
   "execution_count": 77,
   "metadata": {},
   "outputs": [],
   "source": [
    "X_train, X_test, y_train, y_test = train_test_split(X, y, test_size=0.3, random_state=42, stratify=y)\n",
    "\n",
    "encoder = LabelEncoder()\n",
    "y_train = encoder.fit_transform(y_train)\n",
    "y_test = encoder.transform(y_test)\n",
    "\n",
    "label_col_encoder = LabelEncoder()\n",
    "X_train['label'] = label_col_encoder.fit_transform(X_train.label)\n",
    "X_test['label'] = label_col_encoder.transform(X_test.label)"
   ]
  },
  {
   "cell_type": "code",
   "execution_count": 78,
   "metadata": {},
   "outputs": [
    {
     "output_type": "execute_result",
     "data": {
      "text/plain": "not passed    395\npassed         65\nName: verdict, dtype: int64"
     },
     "metadata": {},
     "execution_count": 78
    }
   ],
   "source": [
    "feature_df['verdict'].value_counts()"
   ]
  },
  {
   "cell_type": "code",
   "execution_count": 79,
   "metadata": {},
   "outputs": [
    {
     "output_type": "execute_result",
     "data": {
      "text/plain": "                                            label  verdict\n0              education, research and technology       23\n1       energy, environment and natural resources       22\n2  government operation and international affairs      150\n3                          health and agriculture       38\n4               labour, sports and social welfare       44\n5         laws, civil rights, safety and security      100\n6         public land, housing and transportation       24\n7             trade, commerce and macro economics       59",
      "text/html": "<div>\n<style scoped>\n    .dataframe tbody tr th:only-of-type {\n        vertical-align: middle;\n    }\n\n    .dataframe tbody tr th {\n        vertical-align: top;\n    }\n\n    .dataframe thead th {\n        text-align: right;\n    }\n</style>\n<table border=\"1\" class=\"dataframe\">\n  <thead>\n    <tr style=\"text-align: right;\">\n      <th></th>\n      <th>label</th>\n      <th>verdict</th>\n    </tr>\n  </thead>\n  <tbody>\n    <tr>\n      <td>0</td>\n      <td>education, research and technology</td>\n      <td>23</td>\n    </tr>\n    <tr>\n      <td>1</td>\n      <td>energy, environment and natural resources</td>\n      <td>22</td>\n    </tr>\n    <tr>\n      <td>2</td>\n      <td>government operation and international affairs</td>\n      <td>150</td>\n    </tr>\n    <tr>\n      <td>3</td>\n      <td>health and agriculture</td>\n      <td>38</td>\n    </tr>\n    <tr>\n      <td>4</td>\n      <td>labour, sports and social welfare</td>\n      <td>44</td>\n    </tr>\n    <tr>\n      <td>5</td>\n      <td>laws, civil rights, safety and security</td>\n      <td>100</td>\n    </tr>\n    <tr>\n      <td>6</td>\n      <td>public land, housing and transportation</td>\n      <td>24</td>\n    </tr>\n    <tr>\n      <td>7</td>\n      <td>trade, commerce and macro economics</td>\n      <td>59</td>\n    </tr>\n  </tbody>\n</table>\n</div>"
     },
     "metadata": {},
     "execution_count": 79
    }
   ],
   "source": [
    "labels_df = feature_df.groupby('label').agg({'verdict': 'count'}).reset_index()\n",
    "labels_df"
   ]
  },
  {
   "cell_type": "code",
   "execution_count": 80,
   "metadata": {},
   "outputs": [],
   "source": [
    "enacted_df = feature_df[feature_df.verdict == 'passed']\n",
    "not_enacted_df = feature_df[feature_df.verdict != 'passed']"
   ]
  },
  {
   "cell_type": "code",
   "execution_count": 81,
   "metadata": {},
   "outputs": [
    {
     "output_type": "execute_result",
     "data": {
      "text/plain": "                                            label  verdict\n0              education, research and technology        1\n1       energy, environment and natural resources        8\n2  government operation and international affairs       21\n3                          health and agriculture        6\n4               labour, sports and social welfare        4\n5         laws, civil rights, safety and security       13\n6         public land, housing and transportation        4\n7             trade, commerce and macro economics        8",
      "text/html": "<div>\n<style scoped>\n    .dataframe tbody tr th:only-of-type {\n        vertical-align: middle;\n    }\n\n    .dataframe tbody tr th {\n        vertical-align: top;\n    }\n\n    .dataframe thead th {\n        text-align: right;\n    }\n</style>\n<table border=\"1\" class=\"dataframe\">\n  <thead>\n    <tr style=\"text-align: right;\">\n      <th></th>\n      <th>label</th>\n      <th>verdict</th>\n    </tr>\n  </thead>\n  <tbody>\n    <tr>\n      <td>0</td>\n      <td>education, research and technology</td>\n      <td>1</td>\n    </tr>\n    <tr>\n      <td>1</td>\n      <td>energy, environment and natural resources</td>\n      <td>8</td>\n    </tr>\n    <tr>\n      <td>2</td>\n      <td>government operation and international affairs</td>\n      <td>21</td>\n    </tr>\n    <tr>\n      <td>3</td>\n      <td>health and agriculture</td>\n      <td>6</td>\n    </tr>\n    <tr>\n      <td>4</td>\n      <td>labour, sports and social welfare</td>\n      <td>4</td>\n    </tr>\n    <tr>\n      <td>5</td>\n      <td>laws, civil rights, safety and security</td>\n      <td>13</td>\n    </tr>\n    <tr>\n      <td>6</td>\n      <td>public land, housing and transportation</td>\n      <td>4</td>\n    </tr>\n    <tr>\n      <td>7</td>\n      <td>trade, commerce and macro economics</td>\n      <td>8</td>\n    </tr>\n  </tbody>\n</table>\n</div>"
     },
     "metadata": {},
     "execution_count": 81
    }
   ],
   "source": [
    "grouped_enacted_df = enacted_df.groupby('label').agg({'verdict': 'count'}).reset_index()\n",
    "grouped_enacted_df"
   ]
  },
  {
   "cell_type": "code",
   "execution_count": 82,
   "metadata": {},
   "outputs": [
    {
     "output_type": "execute_result",
     "data": {
      "text/plain": "                                            label  verdict\n0              education, research and technology       22\n1       energy, environment and natural resources       14\n2  government operation and international affairs      129\n3                          health and agriculture       32\n4               labour, sports and social welfare       40\n5         laws, civil rights, safety and security       87\n6         public land, housing and transportation       20\n7             trade, commerce and macro economics       51",
      "text/html": "<div>\n<style scoped>\n    .dataframe tbody tr th:only-of-type {\n        vertical-align: middle;\n    }\n\n    .dataframe tbody tr th {\n        vertical-align: top;\n    }\n\n    .dataframe thead th {\n        text-align: right;\n    }\n</style>\n<table border=\"1\" class=\"dataframe\">\n  <thead>\n    <tr style=\"text-align: right;\">\n      <th></th>\n      <th>label</th>\n      <th>verdict</th>\n    </tr>\n  </thead>\n  <tbody>\n    <tr>\n      <td>0</td>\n      <td>education, research and technology</td>\n      <td>22</td>\n    </tr>\n    <tr>\n      <td>1</td>\n      <td>energy, environment and natural resources</td>\n      <td>14</td>\n    </tr>\n    <tr>\n      <td>2</td>\n      <td>government operation and international affairs</td>\n      <td>129</td>\n    </tr>\n    <tr>\n      <td>3</td>\n      <td>health and agriculture</td>\n      <td>32</td>\n    </tr>\n    <tr>\n      <td>4</td>\n      <td>labour, sports and social welfare</td>\n      <td>40</td>\n    </tr>\n    <tr>\n      <td>5</td>\n      <td>laws, civil rights, safety and security</td>\n      <td>87</td>\n    </tr>\n    <tr>\n      <td>6</td>\n      <td>public land, housing and transportation</td>\n      <td>20</td>\n    </tr>\n    <tr>\n      <td>7</td>\n      <td>trade, commerce and macro economics</td>\n      <td>51</td>\n    </tr>\n  </tbody>\n</table>\n</div>"
     },
     "metadata": {},
     "execution_count": 82
    }
   ],
   "source": [
    "grouped_not_enacted_df = not_enacted_df.groupby('label').agg({'verdict': 'count'}).reset_index()\n",
    "grouped_not_enacted_df"
   ]
  },
  {
   "cell_type": "markdown",
   "metadata": {},
   "source": [
    "Models\n",
    "---"
   ]
  },
  {
   "cell_type": "code",
   "execution_count": 83,
   "metadata": {},
   "outputs": [
    {
     "output_type": "stream",
     "name": "stdout",
     "text": "text_col shape: (322, 100)\ntitle_col shape: (322, 100)\n"
    }
   ],
   "source": [
    "text_col = np.array([X_train['text_avg_word_vector']])\n",
    "title_col = np.array([X_train['title_avg_word_vector']])\n",
    "shape = title_col.shape\n",
    "\n",
    "text_col = text_col.reshape(shape[1], shape[2])\n",
    "title_col = title_col.reshape(shape[1], shape[2])\n",
    "\n",
    "print(f'text_col shape: {text_col.shape}\\ntitle_col shape: {title_col.shape}')\n",
    "\n",
    "X_train = X_train.drop(['title_avg_word_vector', 'text_avg_word_vector'], axis=1)"
   ]
  },
  {
   "cell_type": "code",
   "execution_count": 84,
   "metadata": {},
   "outputs": [
    {
     "output_type": "execute_result",
     "data": {
      "text/plain": "0    276\n1     46\ndtype: int64"
     },
     "metadata": {},
     "execution_count": 84
    }
   ],
   "source": [
    "pd.value_counts(y_train)"
   ]
  },
  {
   "cell_type": "code",
   "execution_count": 85,
   "metadata": {},
   "outputs": [],
   "source": [
    "smote = SMOTE(random_state=1, k_neighbors=6)\n",
    "\n",
    "text_col_smote, y_smote = smote.fit_resample(text_col, y_train)\n",
    "title_col_smote, y_smote = smote.fit_resample(title_col, y_train)\n",
    "X_train_smote = smote.fit_sample(X_train, y_train)\n",
    "\n",
    "X_train_smt_df = pd.DataFrame(X_train_smote[0], columns=X_train.columns)\n",
    "y_train_smt_df = pd.DataFrame(X_train_smote[1], columns=['verdict'])\n",
    "\n",
    "X_train_smt_df['title_avg_word_vector'] = title_col_smote.tolist()\n",
    "X_train_smt_df['text_avg_word_vector'] = text_col_smote.tolist()"
   ]
  },
  {
   "cell_type": "code",
   "execution_count": 86,
   "metadata": {},
   "outputs": [
    {
     "output_type": "execute_result",
     "data": {
      "text/plain": "1    276\n0    276\ndtype: int64"
     },
     "metadata": {},
     "execution_count": 86
    }
   ],
   "source": [
    "pd.value_counts(y_smote)"
   ]
  },
  {
   "cell_type": "code",
   "execution_count": 87,
   "metadata": {},
   "outputs": [],
   "source": [
    "class NumberSelector(BaseEstimator, TransformerMixin):\n",
    "    def __init__(self, column):\n",
    "        self.column = column\n",
    "    def fit(self, X, y=None):\n",
    "        return self\n",
    "    def transform(self, X):\n",
    "        return X[[self.column]]\n",
    "\n",
    "class WordVectorSelector(BaseEstimator, TransformerMixin):\n",
    "    def __init__(self, column):\n",
    "        self.column = column\n",
    "\n",
    "    def fit(self, X, y=None):\n",
    "        return self\n",
    "\n",
    "    def transform(self, X):\n",
    "        vec = np.array([X[self.column]])\n",
    "        shape = vec.shape\n",
    "        vec = np.array([vec]).reshape(shape[1], shape[2])\n",
    "        return vec"
   ]
  },
  {
   "cell_type": "code",
   "execution_count": 88,
   "metadata": {},
   "outputs": [],
   "source": [
    "estimators = [('lr', LogisticRegression(C=4, solver='liblinear')),('svc', SVC(probability=True))]\n",
    "stacked_clf = StackingClassifier(estimators=estimators, final_estimator=LogisticRegression(), verbose=3, \n",
    "                cv=StratifiedKFold(n_splits=5, random_state=0))"
   ]
  },
  {
   "cell_type": "code",
   "execution_count": 89,
   "metadata": {},
   "outputs": [],
   "source": [
    "model = Pipeline([\n",
    "    ('union', FeatureUnion(\n",
    "        transformer_list = [\n",
    "            ('year_diff', Pipeline([\n",
    "                ('selector', NumberSelector(column='year_diff')),\n",
    "                ('standard', StandardScaler())\n",
    "            ])),\n",
    "            ('year_introduced', Pipeline([\n",
    "                ('selector', NumberSelector(column='year_introduced')),\n",
    "            ])),\n",
    "            ('len_of_title', Pipeline([\n",
    "                ('selector', NumberSelector(column='len_of_title')),\n",
    "                ('standard', StandardScaler())\n",
    "            ])),\n",
    "            ('text_length', Pipeline([\n",
    "                ('selector', NumberSelector(column='text_length')),\n",
    "                ('standard', StandardScaler())\n",
    "            ])),\n",
    "            ('sponsor', Pipeline([\n",
    "                ('selector', NumberSelector(column='sponsor')),\n",
    "            ])),\n",
    "            ('sponsor2', Pipeline([\n",
    "                ('selector', NumberSelector(column='sponsor2')),\n",
    "            ])),\n",
    "            ('month', Pipeline([\n",
    "                ('selector', NumberSelector(column='month')),\n",
    "            ])),\n",
    "            ('label', Pipeline([\n",
    "                ('selector', NumberSelector(column='label')),\n",
    "            ])),\n",
    "            ('title_avg_word_vector', Pipeline([\n",
    "                ('selector', WordVectorSelector('title_avg_word_vector'))\n",
    "            ])),\n",
    "            ('text_avg_word_vector', Pipeline([\n",
    "                ('selector', WordVectorSelector('text_avg_word_vector'))\n",
    "            ]))\n",
    "        ]\n",
    "    )),\n",
    "    ('clf', stacked_clf)\n",
    "])"
   ]
  },
  {
   "cell_type": "code",
   "execution_count": 90,
   "metadata": {},
   "outputs": [
    {
     "output_type": "stream",
     "name": "stderr",
     "text": "[Parallel(n_jobs=1)]: Using backend SequentialBackend with 1 concurrent workers.\n[Parallel(n_jobs=1)]: Done   1 out of   1 | elapsed:    0.1s remaining:    0.0s\n[Parallel(n_jobs=1)]: Done   2 out of   2 | elapsed:    0.2s remaining:    0.0s\n[Parallel(n_jobs=1)]: Done   5 out of   5 | elapsed:    0.5s finished\n[Parallel(n_jobs=1)]: Using backend SequentialBackend with 1 concurrent workers.\n[Parallel(n_jobs=1)]: Done   1 out of   1 | elapsed:    0.5s remaining:    0.0s\n[Parallel(n_jobs=1)]: Done   2 out of   2 | elapsed:    1.3s remaining:    0.0s\n[Parallel(n_jobs=1)]: Done   5 out of   5 | elapsed:    2.9s finished\n"
    },
    {
     "output_type": "execute_result",
     "data": {
      "text/plain": "Pipeline(memory=None,\n         steps=[('union',\n                 FeatureUnion(n_jobs=None,\n                              transformer_list=[('year_diff',\n                                                 Pipeline(memory=None,\n                                                          steps=[('selector',\n                                                                  NumberSelector(column='year_diff')),\n                                                                 ('standard',\n                                                                  StandardScaler(copy=True,\n                                                                                 with_mean=True,\n                                                                                 with_std=True))],\n                                                          verbose=False)),\n                                                ('year_introduced',\n                                                 Pipeline(memory=None,\n                                                          steps=[('selector',\n                                                                  NumberSelector(column='year_introduce...\n                                                     shrinking=True, tol=0.001,\n                                                     verbose=False))],\n                                    final_estimator=LogisticRegression(C=1.0,\n                                                                       class_weight=None,\n                                                                       dual=False,\n                                                                       fit_intercept=True,\n                                                                       intercept_scaling=1,\n                                                                       l1_ratio=None,\n                                                                       max_iter=100,\n                                                                       multi_class='auto',\n                                                                       n_jobs=None,\n                                                                       penalty='l2',\n                                                                       random_state=None,\n                                                                       solver='lbfgs',\n                                                                       tol=0.0001,\n                                                                       verbose=0,\n                                                                       warm_start=False),\n                                    n_jobs=None, passthrough=False,\n                                    stack_method='auto', verbose=3))],\n         verbose=False)"
     },
     "metadata": {},
     "execution_count": 90
    }
   ],
   "source": [
    "model.fit(X_train_smt_df, y_train_smt_df)"
   ]
  },
  {
   "cell_type": "code",
   "execution_count": 91,
   "metadata": {},
   "outputs": [],
   "source": [
    "preds = model.predict(X_test)\n",
    "pred_prob = model.predict_proba(X_test)"
   ]
  },
  {
   "cell_type": "code",
   "execution_count": 92,
   "metadata": {},
   "outputs": [
    {
     "output_type": "stream",
     "name": "stdout",
     "text": "\n              precision    recall  f1-score   support\n\n  not passed       0.93      0.85      0.89       119\n      passed       0.38      0.58      0.46        19\n\n    accuracy                           0.81       138\n   macro avg       0.65      0.71      0.67       138\nweighted avg       0.85      0.81      0.83       138\n\n\nAUC: 0.73\nBrier score: 0.15 \n\n"
    }
   ],
   "source": [
    "target_names = ['not passed', 'passed']\n",
    "print(f'\\n{classification_report(y_true=y_test, y_pred=preds, target_names=target_names)}')\n",
    "\n",
    "fpr, tpr, thresholds = roc_curve(y_true=y_test, y_score=pred_prob[:, 0], pos_label=0)\n",
    "auc_value = auc(fpr, tpr)\n",
    "\n",
    "brier_score = brier_score_loss(y_true=y_test, y_prob=pred_prob[:, 0], pos_label=0)\n",
    "\n",
    "print(f'\\nAUC: {round(auc_value, 2)}')\n",
    "print(f'Brier score: {round(brier_score, 2)} \\n')"
   ]
  },
  {
   "cell_type": "code",
   "execution_count": null,
   "metadata": {},
   "outputs": [],
   "source": []
  }
 ],
 "metadata": {
  "kernelspec": {
   "display_name": "Python 3",
   "language": "python",
   "name": "python3"
  },
  "language_info": {
   "codemirror_mode": {
    "name": "ipython",
    "version": 3
   },
   "file_extension": ".py",
   "mimetype": "text/x-python",
   "name": "python",
   "nbconvert_exporter": "python",
   "pygments_lexer": "ipython3",
   "version": "3.7.4-final"
  }
 },
 "nbformat": 4,
 "nbformat_minor": 2
}